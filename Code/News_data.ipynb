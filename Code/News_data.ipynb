{
 "cells": [
  {
   "cell_type": "code",
   "execution_count": 57,
   "id": "8cc27108-ce1b-4eec-b091-5f0ba58e0532",
   "metadata": {},
   "outputs": [],
   "source": [
    "import pandas as pd\n",
    "import requests\n",
    "import re"
   ]
  },
  {
   "cell_type": "code",
   "execution_count": 5,
   "id": "c7d51a24-fc35-4f58-bcc6-fff7bb11b440",
   "metadata": {},
   "outputs": [],
   "source": [
    "key = '4d54a82bef6e471389413c4d44f8dbf7'\n",
    "\n",
    "url = 'GET https://newsapi.org/v2/everything?q=Apple&from=2021-01-01&sortBy=popularity&apiKey=key'\n"
   ]
  },
  {
   "cell_type": "code",
   "execution_count": 6,
   "id": "27aa7467-6060-4e86-9ad3-70a33a6644a3",
   "metadata": {},
   "outputs": [],
   "source": [
    "endpoint = 'https://newsapi.org/v2/everything'\n",
    "topics = [\"recession\", \"job market\", \"layoffs\", \"hiring\", \"no jobs\"]"
   ]
  },
  {
   "cell_type": "code",
   "execution_count": 7,
   "id": "2f5a1fae-57e6-46a7-8272-3cbd08b4dc8e",
   "metadata": {},
   "outputs": [
    {
     "name": "stdout",
     "output_type": "stream",
     "text": [
      "<Response [200]>\n",
      "<Response [200]>\n",
      "<Response [200]>\n",
      "<Response [200]>\n",
      "<Response [200]>\n"
     ]
    }
   ],
   "source": [
    "for topic in topics:\n",
    "    URLpost = {\n",
    "        'apiKey' : key, \n",
    "        'q' : topic, \n",
    "        'language' : 'en'\n",
    "    }\n",
    "\n",
    "    response = requests.get(endpoint, URLpost)\n",
    "    print(response)\n",
    "\n",
    "    # Json data\n",
    "    jsontext = response.json()\n",
    "    "
   ]
  },
  {
   "cell_type": "code",
   "execution_count": 58,
   "id": "6d566710-b494-4ba1-a1d2-48d0cc6f6cae",
   "metadata": {},
   "outputs": [],
   "source": [
    "# Convert Json to a dataframe and save it in a file \"Job_News.csv\"\n",
    "\n",
    "# Creating a file to store the json data. \n",
    "\n",
    "filename = \"Job_News.csv\"\n",
    "\n",
    "myfile = open(filename, 'w') \n",
    "\n",
    "# Create columns in the csv files followed by a new line for the records\n",
    "writecontent = \"Date, Source, Source_Name, Author, Title, Description, Content\\n\"\n",
    "myfile.write(writecontent)\n",
    "myfile.close()"
   ]
  },
  {
   "cell_type": "code",
   "execution_count": 59,
   "id": "75d166f7-f805-413f-b8af-cd200ac047b4",
   "metadata": {},
   "outputs": [],
   "source": [
    "myfile = open(filename, 'a') # append every record in a new line"
   ]
  },
  {
   "cell_type": "code",
   "execution_count": 60,
   "id": "843adf80-ca4b-43e2-a52b-45a9b9cbf491",
   "metadata": {},
   "outputs": [],
   "source": [
    "for items in jsontext['articles']:\n",
    "    \n",
    "    Date = items['publishedAt']\n",
    "    NewDate=Date.split(\"T\")\n",
    "    Date=NewDate[0]\n",
    "    \n",
    "    Source = items['source']['id']\n",
    "\n",
    "    Source_Name = items['source']['name']\n",
    "\n",
    "    Author = items['author']\n",
    "\n",
    "    Title = items['title']\n",
    "    Title = re.sub(r'[,.;@#?!&$\\-\\']+', ' ', Title, flags=re.IGNORECASE)\n",
    "    Title = re.sub(' +', ' ', Title, flags=re.IGNORECASE)\n",
    "    Title = re.sub(r'\\\"', ' ', Title, flags=re.IGNORECASE)\n",
    "    Title = re.sub(r'[^a-zA-Z]', \" \", Title, flags=re.VERBOSE)\n",
    "    Title = Title.replace(',', '')\n",
    "    Title = ' '.join(Title.split())\n",
    "    Title = re.sub(\"\\n|\\r\", \"\", Title)\n",
    "\n",
    "    Description = items['description']\n",
    "    if Description is not None:\n",
    "        Description = re.sub(r'[,.;@#?!&$\\-\\']+', ' ', Description, flags=re.IGNORECASE)\n",
    "        Description = re.sub(' +', ' ', Description, flags=re.IGNORECASE)\n",
    "        Description = re.sub(r'\\\"', ' ', Description, flags=re.IGNORECASE)\n",
    "        Description = re.sub(r'[^a-zA-Z]', \" \", Description, flags=re.VERBOSE)\n",
    "        Description = Description.replace(',', '')\n",
    "        Description = ' '.join(Description.split())\n",
    "        Description = re.sub(\"\\n|\\r\", \"\", Description)\n",
    "    else:\n",
    "        Description = \"NA\" \n",
    "\n",
    "    Content = items['content']\n",
    "    if Content is not None:\n",
    "        Content = re.sub(r'[,.;@#?!&$\\-\\']+', ' ', Content, flags=re.IGNORECASE)\n",
    "        Content = re.sub(' +', ' ', Content, flags=re.IGNORECASE)\n",
    "        Content = re.sub(r'\\\"', ' ', Content, flags=re.IGNORECASE)\n",
    "        Content = re.sub(r'[^a-zA-Z]', \" \", Content, flags=re.VERBOSE)\n",
    "        Content = Content.replace(',', '')\n",
    "        Content = ' '.join(Content.split())\n",
    "        Content = re.sub(\"\\n|\\r\", \"\", Content)\n",
    "    else:\n",
    "        Content = \"NA\" \n",
    "\n",
    "    # writecontent = \"Date, Source, Source_Name, Author, Title, Description, Content\\n\"\n",
    "    writecontent = str(Date) + \",\" + str(Source) + \",\" + str(Source_Name) + \",\" + str(Author) + \",\" + str(Title) + \",\" + str(Description) + \",\" + str(Content) + \"\\n\"\n",
    "    myfile.write(writecontent)\n",
    "\n",
    "myfile.close()"
   ]
  },
  {
   "cell_type": "code",
   "execution_count": 62,
   "id": "5490156d-cf19-4196-8c59-ba8ab402277c",
   "metadata": {},
   "outputs": [
    {
     "ename": "ParserError",
     "evalue": "Error tokenizing data. C error: Expected 7 fields in line 9, saw 8\n",
     "output_type": "error",
     "traceback": [
      "\u001b[0;31m---------------------------------------------------------------------------\u001b[0m",
      "\u001b[0;31mParserError\u001b[0m                               Traceback (most recent call last)",
      "Cell \u001b[0;32mIn[62], line 2\u001b[0m\n\u001b[1;32m      1\u001b[0m \u001b[38;5;66;03m# Read the file\u001b[39;00m\n\u001b[0;32m----> 2\u001b[0m data \u001b[38;5;241m=\u001b[39m pd\u001b[38;5;241m.\u001b[39mread_csv(filename)\n",
      "File \u001b[0;32m~/miniconda3/envs/marketanalysis/lib/python3.12/site-packages/pandas/io/parsers/readers.py:1026\u001b[0m, in \u001b[0;36mread_csv\u001b[0;34m(filepath_or_buffer, sep, delimiter, header, names, index_col, usecols, dtype, engine, converters, true_values, false_values, skipinitialspace, skiprows, skipfooter, nrows, na_values, keep_default_na, na_filter, verbose, skip_blank_lines, parse_dates, infer_datetime_format, keep_date_col, date_parser, date_format, dayfirst, cache_dates, iterator, chunksize, compression, thousands, decimal, lineterminator, quotechar, quoting, doublequote, escapechar, comment, encoding, encoding_errors, dialect, on_bad_lines, delim_whitespace, low_memory, memory_map, float_precision, storage_options, dtype_backend)\u001b[0m\n\u001b[1;32m   1013\u001b[0m kwds_defaults \u001b[38;5;241m=\u001b[39m _refine_defaults_read(\n\u001b[1;32m   1014\u001b[0m     dialect,\n\u001b[1;32m   1015\u001b[0m     delimiter,\n\u001b[0;32m   (...)\u001b[0m\n\u001b[1;32m   1022\u001b[0m     dtype_backend\u001b[38;5;241m=\u001b[39mdtype_backend,\n\u001b[1;32m   1023\u001b[0m )\n\u001b[1;32m   1024\u001b[0m kwds\u001b[38;5;241m.\u001b[39mupdate(kwds_defaults)\n\u001b[0;32m-> 1026\u001b[0m \u001b[38;5;28;01mreturn\u001b[39;00m _read(filepath_or_buffer, kwds)\n",
      "File \u001b[0;32m~/miniconda3/envs/marketanalysis/lib/python3.12/site-packages/pandas/io/parsers/readers.py:626\u001b[0m, in \u001b[0;36m_read\u001b[0;34m(filepath_or_buffer, kwds)\u001b[0m\n\u001b[1;32m    623\u001b[0m     \u001b[38;5;28;01mreturn\u001b[39;00m parser\n\u001b[1;32m    625\u001b[0m \u001b[38;5;28;01mwith\u001b[39;00m parser:\n\u001b[0;32m--> 626\u001b[0m     \u001b[38;5;28;01mreturn\u001b[39;00m parser\u001b[38;5;241m.\u001b[39mread(nrows)\n",
      "File \u001b[0;32m~/miniconda3/envs/marketanalysis/lib/python3.12/site-packages/pandas/io/parsers/readers.py:1923\u001b[0m, in \u001b[0;36mTextFileReader.read\u001b[0;34m(self, nrows)\u001b[0m\n\u001b[1;32m   1916\u001b[0m nrows \u001b[38;5;241m=\u001b[39m validate_integer(\u001b[38;5;124m\"\u001b[39m\u001b[38;5;124mnrows\u001b[39m\u001b[38;5;124m\"\u001b[39m, nrows)\n\u001b[1;32m   1917\u001b[0m \u001b[38;5;28;01mtry\u001b[39;00m:\n\u001b[1;32m   1918\u001b[0m     \u001b[38;5;66;03m# error: \"ParserBase\" has no attribute \"read\"\u001b[39;00m\n\u001b[1;32m   1919\u001b[0m     (\n\u001b[1;32m   1920\u001b[0m         index,\n\u001b[1;32m   1921\u001b[0m         columns,\n\u001b[1;32m   1922\u001b[0m         col_dict,\n\u001b[0;32m-> 1923\u001b[0m     ) \u001b[38;5;241m=\u001b[39m \u001b[38;5;28mself\u001b[39m\u001b[38;5;241m.\u001b[39m_engine\u001b[38;5;241m.\u001b[39mread(  \u001b[38;5;66;03m# type: ignore[attr-defined]\u001b[39;00m\n\u001b[1;32m   1924\u001b[0m         nrows\n\u001b[1;32m   1925\u001b[0m     )\n\u001b[1;32m   1926\u001b[0m \u001b[38;5;28;01mexcept\u001b[39;00m \u001b[38;5;167;01mException\u001b[39;00m:\n\u001b[1;32m   1927\u001b[0m     \u001b[38;5;28mself\u001b[39m\u001b[38;5;241m.\u001b[39mclose()\n",
      "File \u001b[0;32m~/miniconda3/envs/marketanalysis/lib/python3.12/site-packages/pandas/io/parsers/c_parser_wrapper.py:234\u001b[0m, in \u001b[0;36mCParserWrapper.read\u001b[0;34m(self, nrows)\u001b[0m\n\u001b[1;32m    232\u001b[0m \u001b[38;5;28;01mtry\u001b[39;00m:\n\u001b[1;32m    233\u001b[0m     \u001b[38;5;28;01mif\u001b[39;00m \u001b[38;5;28mself\u001b[39m\u001b[38;5;241m.\u001b[39mlow_memory:\n\u001b[0;32m--> 234\u001b[0m         chunks \u001b[38;5;241m=\u001b[39m \u001b[38;5;28mself\u001b[39m\u001b[38;5;241m.\u001b[39m_reader\u001b[38;5;241m.\u001b[39mread_low_memory(nrows)\n\u001b[1;32m    235\u001b[0m         \u001b[38;5;66;03m# destructive to chunks\u001b[39;00m\n\u001b[1;32m    236\u001b[0m         data \u001b[38;5;241m=\u001b[39m _concatenate_chunks(chunks)\n",
      "File \u001b[0;32mparsers.pyx:838\u001b[0m, in \u001b[0;36mpandas._libs.parsers.TextReader.read_low_memory\u001b[0;34m()\u001b[0m\n",
      "File \u001b[0;32mparsers.pyx:905\u001b[0m, in \u001b[0;36mpandas._libs.parsers.TextReader._read_rows\u001b[0;34m()\u001b[0m\n",
      "File \u001b[0;32mparsers.pyx:874\u001b[0m, in \u001b[0;36mpandas._libs.parsers.TextReader._tokenize_rows\u001b[0;34m()\u001b[0m\n",
      "File \u001b[0;32mparsers.pyx:891\u001b[0m, in \u001b[0;36mpandas._libs.parsers.TextReader._check_tokenize_status\u001b[0;34m()\u001b[0m\n",
      "File \u001b[0;32mparsers.pyx:2061\u001b[0m, in \u001b[0;36mpandas._libs.parsers.raise_parser_error\u001b[0;34m()\u001b[0m\n",
      "\u001b[0;31mParserError\u001b[0m: Error tokenizing data. C error: Expected 7 fields in line 9, saw 8\n"
     ]
    }
   ],
   "source": [
    "# Read the file\n",
    "data = pd.read_csv(filename)"
   ]
  },
  {
   "cell_type": "code",
   "execution_count": null,
   "id": "427c3b12-1203-42d6-8cba-82595f5777ad",
   "metadata": {},
   "outputs": [],
   "source": []
  }
 ],
 "metadata": {
  "kernelspec": {
   "display_name": "Python 3 (ipykernel)",
   "language": "python",
   "name": "python3"
  },
  "language_info": {
   "codemirror_mode": {
    "name": "ipython",
    "version": 3
   },
   "file_extension": ".py",
   "mimetype": "text/x-python",
   "name": "python",
   "nbconvert_exporter": "python",
   "pygments_lexer": "ipython3",
   "version": "3.12.3"
  }
 },
 "nbformat": 4,
 "nbformat_minor": 5
}
